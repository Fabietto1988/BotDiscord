{
 "cells": [
  {
   "cell_type": "code",
   "execution_count": 2,
   "id": "d4be0b44-ecee-4dab-a938-9ae4aa830626",
   "metadata": {},
   "outputs": [
    {
     "ename": "TypeError",
     "evalue": "my_func() takes 0 positional arguments but 1 was given",
     "output_type": "error",
     "traceback": [
      "\u001b[0;31m---------------------------------------------------------------------------\u001b[0m",
      "\u001b[0;31mTypeError\u001b[0m                                 Traceback (most recent call last)",
      "Cell \u001b[0;32mIn[2], line 4\u001b[0m\n\u001b[1;32m      1\u001b[0m \u001b[38;5;28;01mdef\u001b[39;00m \u001b[38;5;21mmy_func\u001b[39m():\n\u001b[1;32m      2\u001b[0m     \u001b[38;5;28mprint\u001b[39m(\u001b[38;5;124m\"\u001b[39m\u001b[38;5;124mMy Func!\u001b[39m\u001b[38;5;124m\"\u001b[39m)\n\u001b[0;32m----> 4\u001b[0m \u001b[43mmy_func\u001b[49m\u001b[43m(\u001b[49m\u001b[38;5;124;43m\"\u001b[39;49m\u001b[38;5;124;43mTest\u001b[39;49m\u001b[38;5;124;43m\"\u001b[39;49m\u001b[43m)\u001b[49m\n",
      "\u001b[0;31mTypeError\u001b[0m: my_func() takes 0 positional arguments but 1 was given"
     ]
    }
   ],
   "source": [
    "def my_func():\n",
    "    print(\"My Func!\")\n",
    "\n",
    "my_func(\"Test\")"
   ]
  },
  {
   "cell_type": "code",
   "execution_count": 9,
   "id": "515a5fb6-db7c-4167-a9bb-51028ce4a0d9",
   "metadata": {},
   "outputs": [
    {
     "name": "stdout",
     "output_type": "stream",
     "text": [
      "<class 'tuple'>\n",
      "Test Hello How Are You My Func!\n"
     ]
    }
   ],
   "source": [
    "def my_func(*args):\n",
    "    print(type(args))\n",
    "    if len(args) > 0:\n",
    "        for s in args:\n",
    "            print(f\"{s}\", end=\" \")\n",
    "    #print(args[0])\n",
    "    print(\"My Func!\")\n",
    "\n",
    "my_func(\"Test\", \"Hello\", \"How\", \"Are\", \"You\")\n"
   ]
  },
  {
   "cell_type": "code",
   "execution_count": null,
   "id": "916493f6-8aa4-4085-abf7-0f71dcf158ed",
   "metadata": {},
   "outputs": [],
   "source": []
  },
  {
   "cell_type": "code",
   "execution_count": 19,
   "id": "a809f5f5-b31b-426f-bfc4-e2ff31ab6792",
   "metadata": {},
   "outputs": [
    {
     "name": "stdout",
     "output_type": "stream",
     "text": [
      "<class 'dict'>\n",
      "key1 -> val1\n",
      "key2 -> val2\n",
      "key3 -> val3\n",
      "My Func!\n",
      "<class 'dict'>\n",
      "Non hai passato alcun argomento alla funzione\n",
      "My Func!\n"
     ]
    }
   ],
   "source": [
    "def my_func(**kwargs):\n",
    "    print(type(kwargs))\n",
    "    if len(kwargs.values()) > 0:\n",
    "        for k, v in kwargs.items():\n",
    "            print(f\"{k} -> {v}\")\n",
    "    else:\n",
    "        print(\"Non hai passato alcun argomento alla funzione\")\n",
    "    print(\"My Func!\")\n",
    "\n",
    "my_func(key1=\"val1\", key2=\"val2\", key3=\"val3\")\n",
    "my_func()\n",
    "\n"
   ]
  },
  {
   "cell_type": "code",
   "execution_count": 24,
   "id": "fd0a8c5e-982a-4b63-8600-d08a4544bcdf",
   "metadata": {},
   "outputs": [
    {
     "name": "stdout",
     "output_type": "stream",
     "text": [
      "1 2 3 \n",
      "\n",
      "a -> 1\n",
      "b -> 2\n",
      "c -> 3\n",
      "Corpo della funzione my_func()\n"
     ]
    }
   ],
   "source": [
    "def my_func(*args, **kwargs):\n",
    "    if len(args) > 0:\n",
    "        for s in args:\n",
    "            print(f\"{s}\", end=\" \")\n",
    "    else:\n",
    "        print(\"Nessun argomento posizionale!\")\n",
    "    print(\"\\n\")    \n",
    "    if len(kwargs.values()) > 0:\n",
    "        for k, v in kwargs.items():\n",
    "            print(f\"{k} -> {v}\")\n",
    "    else:\n",
    "        print(\"Non hai passato alcun argomento alla funzione\")\n",
    "\n",
    "    print(\"Corpo della funzione my_func()\")\n",
    "\n",
    "my_func(1, 2, 3, a=1, b=2, c=3)"
   ]
  },
  {
   "cell_type": "code",
   "execution_count": null,
   "id": "58b980cf-9754-46b2-bf81-ec3b3d55ebb6",
   "metadata": {},
   "outputs": [],
   "source": []
  },
  {
   "cell_type": "code",
   "execution_count": 30,
   "id": "c9c23df6-85a3-4606-b056-63acd99c0135",
   "metadata": {},
   "outputs": [
    {
     "name": "stdout",
     "output_type": "stream",
     "text": [
      "1 2 3 \n",
      "\n",
      "a -> 1\n",
      "b -> 2\n",
      "C -> 3\n",
      "hello Giuseppe\n"
     ]
    }
   ],
   "source": [
    "def greet(name, *args, **kwargs):    \n",
    "    if len(args) > 0:\n",
    "        for s in args:\n",
    "            print(f\"{s}\", end=\" \")\n",
    "    else:\n",
    "        print(\"Nessun argomento posizionale!\")\n",
    "    print(\"\\n\")    \n",
    "    if len(kwargs.values()) > 0:\n",
    "        for k, v in kwargs.items():\n",
    "            print(f\"{k} -> {v}\")\n",
    "    else:\n",
    "        print(\"Non hai passato alcun argomento alla funzione\")\n",
    "\n",
    "    print(f\"hello {name}\")\n",
    "\n",
    "\n",
    "\n",
    "greet(\"Giuseppe\", 1, 2, 3, a=1, b=2, C=3)\n"
   ]
  },
  {
   "cell_type": "code",
   "execution_count": 32,
   "id": "af4afb46-7507-4c42-a78d-3bd57d1a804f",
   "metadata": {},
   "outputs": [
    {
     "name": "stdout",
     "output_type": "stream",
     "text": [
      "Ciao Giuseppe!\n"
     ]
    }
   ],
   "source": [
    "def saluta(name):\n",
    "    return f\"Ciao {name}!\"\n",
    "\n",
    "print(saluta(\"Giuseppe\"))"
   ]
  },
  {
   "cell_type": "code",
   "execution_count": 35,
   "id": "6b0b5886-85d6-4145-bcb5-f46290ca47f4",
   "metadata": {},
   "outputs": [
    {
     "name": "stdout",
     "output_type": "stream",
     "text": [
      "Buongiorno, Giuseppe!\n",
      "Ciao, Giuseppe, come va?!\n"
     ]
    }
   ],
   "source": [
    "def saluto_formale(name):\n",
    "    return f\"Buongiorno, {name}!\"\n",
    "\n",
    "def saluto_compagnone(name):\n",
    "    return f\"Ciao, {name}, come va?!\"\n",
    "\n",
    "def saluto_giuseppe(func):\n",
    "    return func(\"Giuseppe\")\n",
    "\n",
    "print(saluto_giuseppe(saluto_formale))\n",
    "print(saluto_giuseppe(saluto_compagnone))\n",
    "    \n"
   ]
  },
  {
   "cell_type": "code",
   "execution_count": null,
   "id": "0f644223-9fc8-4fe0-8268-cb438180ce76",
   "metadata": {},
   "outputs": [],
   "source": []
  },
  {
   "cell_type": "code",
   "execution_count": 44,
   "id": "2e3e8fbe-93d6-4b5d-affc-4c212dbdaa13",
   "metadata": {},
   "outputs": [
    {
     "name": "stdout",
     "output_type": "stream",
     "text": [
      "<function parent_func.<locals>.first at 0x105c59080>\n",
      "First Function\n",
      "<function parent_func.<locals>.second at 0x105b80720>\n",
      "Second Function\n"
     ]
    }
   ],
   "source": [
    "def parent_func(which):\n",
    "    def first():\n",
    "        return \"First Function\"\n",
    "    \n",
    "    def second():\n",
    "        return \"Second Function\"\n",
    "\n",
    "    if which == \"first\":\n",
    "        return first\n",
    "\n",
    "    else:\n",
    "        return second\n",
    "\n",
    "f = parent_func(\"first\")\n",
    "print(f)\n",
    "a = f()\n",
    "\n",
    "print(a)\n",
    "\n",
    "f2 = parent_func(\"HELLO\")\n",
    "print(f2)\n",
    "print(f2())"
   ]
  },
  {
   "cell_type": "code",
   "execution_count": 48,
   "id": "1f18d229-2b7c-40fd-aed4-b9500e270cde",
   "metadata": {},
   "outputs": [
    {
     "name": "stdout",
     "output_type": "stream",
     "text": [
      "<function my_decorator.<locals>.wrapper at 0x105c5a520>\n",
      "Prima della chiamata a func...\n",
      "CIAO\n",
      "Dopo la chiamata a func\n"
     ]
    }
   ],
   "source": [
    "def my_decorator(func):\n",
    "    def wrapper():\n",
    "        print(\"Prima della chiamata a func...\")\n",
    "        func()\n",
    "        print(\"Dopo la chiamata a func\")\n",
    "\n",
    "    return wrapper\n",
    "def saluta():\n",
    "    print(\"CIAO\")\n",
    "\n",
    "a = my_decorator(saluta)\n",
    "\n",
    "print(a)\n",
    "a()"
   ]
  },
  {
   "cell_type": "code",
   "execution_count": 68,
   "id": "33f93a89-3aa4-4b45-824c-9efce3c1a7a8",
   "metadata": {},
   "outputs": [
    {
     "name": "stdout",
     "output_type": "stream",
     "text": [
      "<function saluta at 0x105c58cc0>\n",
      "<function random_decorator.<locals>.wrapper at 0x105c59620>\n",
      "NON VOGLIO ESEGUIRE LA FUNZIONE\n",
      "NON VOGLIO ESEGUIRE LA FUNZIONE\n",
      "NON VOGLIO ESEGUIRE LA FUNZIONE\n",
      "CIAO!\n",
      "NON VOGLIO ESEGUIRE LA FUNZIONE\n",
      "NON VOGLIO ESEGUIRE LA FUNZIONE\n",
      "CIAO!\n",
      "CIAO!\n",
      "CIAO!\n",
      "CIAO!\n"
     ]
    }
   ],
   "source": [
    "import random\n",
    "\n",
    "def random_decorator(func):\n",
    "    def wrapper():\n",
    "        r = random.randint(0, 1)\n",
    "        if r == 0:\n",
    "            print(\"NON VOGLIO ESEGUIRE LA FUNZIONE\")\n",
    "        else:\n",
    "            func()\n",
    "\n",
    "    return wrapper\n",
    "\n",
    "def saluta():\n",
    "    print(\"CIAO!\")\n",
    "\n",
    "print(saluta)\n",
    "saluta = random_decorator(saluta)\n",
    "\n",
    "print(saluta)\n",
    "\n",
    "for i in range(10):\n",
    "    saluta()\n",
    "      "
   ]
  },
  {
   "cell_type": "code",
   "execution_count": 76,
   "id": "549e962f-abab-41c9-9d6b-4d422afd9ad3",
   "metadata": {},
   "outputs": [],
   "source": [
    "def my_decorator(func):\n",
    "    def wrapper():\n",
    "        print(\"Before...\")\n",
    "        func()\n",
    "        print(\"After...\")\n",
    "    \n",
    "    return wrapper   \n",
    "\n",
    "@my_decorator\n",
    "def ciao():\n",
    "    print(\"Ciao!\")\n",
    "\n"
   ]
  },
  {
   "cell_type": "code",
   "execution_count": null,
   "id": "c3151ff2-c6a0-46ab-b3f3-28947f7d34cc",
   "metadata": {},
   "outputs": [],
   "source": []
  },
  {
   "cell_type": "code",
   "execution_count": 77,
   "id": "4cbc639f-a69b-47c8-95e1-9c0e2f69a308",
   "metadata": {},
   "outputs": [
    {
     "name": "stdout",
     "output_type": "stream",
     "text": [
      "Before...\n",
      "Ciao!\n",
      "After...\n"
     ]
    }
   ],
   "source": [
    "ciao()"
   ]
  },
  {
   "cell_type": "code",
   "execution_count": 84,
   "id": "9a128431-1bf9-4952-837c-680a1a83b88e",
   "metadata": {},
   "outputs": [
    {
     "name": "stdout",
     "output_type": "stream",
     "text": [
      "<function my_decorator.<locals>.wrapper at 0x105b80fe0>\n",
      "Before...\n",
      "Ciao Giuseppe Mastrandrea!\n",
      "After...\n"
     ]
    }
   ],
   "source": [
    "def my_decorator(func):\n",
    "    def wrapper(*args, **kwargs):\n",
    "        print(\"Before...\")\n",
    "        func(*args, **kwargs)\n",
    "        print(\"After...\")\n",
    "        \n",
    "    return wrapper   \n",
    "\n",
    "@my_decorator\n",
    "def ciao(name, cognome):\n",
    "    print(f\"Ciao {name} {cognome}!\")\n",
    "\n",
    "print(ciao)\n",
    "ciao(\"Giuseppe\", \"Mastrandrea\")\n",
    "\n"
   ]
  },
  {
   "cell_type": "code",
   "execution_count": 87,
   "id": "aef86206-1d22-4a07-9a11-03c47af7bafc",
   "metadata": {},
   "outputs": [],
   "source": [
    "@my_decorator\n",
    "def return_value_func(name):\n",
    "    return f\"Hello {name}!\""
   ]
  },
  {
   "cell_type": "code",
   "execution_count": null,
   "id": "a09c4ebe-242c-4383-8552-4cc84fddd2bf",
   "metadata": {},
   "outputs": [],
   "source": []
  },
  {
   "cell_type": "code",
   "execution_count": 90,
   "id": "b1856480-8b69-419a-b017-11fbaf7019f1",
   "metadata": {},
   "outputs": [
    {
     "name": "stdout",
     "output_type": "stream",
     "text": [
      "Before...\n",
      "After...\n",
      "None\n"
     ]
    }
   ],
   "source": [
    "g = return_value_func(\"Giuseppe\")\n",
    "print(g)"
   ]
  },
  {
   "cell_type": "code",
   "execution_count": 92,
   "id": "5e7267e9-7801-4404-8eac-55ae7cb0a560",
   "metadata": {},
   "outputs": [
    {
     "name": "stdout",
     "output_type": "stream",
     "text": [
      "Before...\n",
      "Hello Giuseppe!\n"
     ]
    }
   ],
   "source": [
    "def my_decorator(func):\n",
    "    def wrapper(*args, **kwargs):\n",
    "        print(\"Before...\")\n",
    "        return func(*args, **kwargs)\n",
    "               \n",
    "    return wrapper \n",
    "    \n",
    "@my_decorator\n",
    "def return_value_func(name):\n",
    "    return f\"Hello {name}!\"    \n",
    "\n",
    "g = return_value_func(\"Giuseppe\")\n",
    "print(g)\n",
    "\n"
   ]
  },
  {
   "cell_type": "code",
   "execution_count": null,
   "id": "ff595e6f-e3ba-4183-b770-bcf95fcff4f1",
   "metadata": {},
   "outputs": [],
   "source": []
  },
  {
   "cell_type": "code",
   "execution_count": null,
   "id": "653378c0-131a-43ff-9c64-740f5c765419",
   "metadata": {},
   "outputs": [],
   "source": []
  },
  {
   "cell_type": "code",
   "execution_count": null,
   "id": "b5cd03b8-7f82-4c0b-8f60-0f1abee171ae",
   "metadata": {},
   "outputs": [],
   "source": []
  },
  {
   "cell_type": "code",
   "execution_count": null,
   "id": "302d867d-71cf-4367-9409-c83dca39782f",
   "metadata": {},
   "outputs": [],
   "source": []
  },
  {
   "cell_type": "code",
   "execution_count": null,
   "id": "d91851c9-8099-4109-b6bb-af08ca4e4a18",
   "metadata": {},
   "outputs": [],
   "source": []
  },
  {
   "cell_type": "code",
   "execution_count": null,
   "id": "63d8db0f-b385-4632-ac34-8855e9832b0b",
   "metadata": {},
   "outputs": [],
   "source": []
  },
  {
   "cell_type": "code",
   "execution_count": null,
   "id": "3a2db29f-0c4b-43e1-a0e8-2680724741c6",
   "metadata": {},
   "outputs": [],
   "source": []
  },
  {
   "cell_type": "code",
   "execution_count": null,
   "id": "d74cfae6-b783-4613-a57a-425ad5161b14",
   "metadata": {},
   "outputs": [],
   "source": []
  },
  {
   "cell_type": "code",
   "execution_count": null,
   "id": "88069d65-6a16-44cd-8d57-db26af050f94",
   "metadata": {},
   "outputs": [],
   "source": []
  },
  {
   "cell_type": "code",
   "execution_count": null,
   "id": "e636ab45-755c-4363-b9b2-41ca8a54fe90",
   "metadata": {},
   "outputs": [],
   "source": []
  },
  {
   "cell_type": "code",
   "execution_count": null,
   "id": "67af3db5-2a21-4fcb-89ef-9efca7109887",
   "metadata": {},
   "outputs": [],
   "source": []
  },
  {
   "cell_type": "code",
   "execution_count": null,
   "id": "4bd2545d-9dbf-4f1c-94ca-13d73fac294e",
   "metadata": {},
   "outputs": [],
   "source": []
  },
  {
   "cell_type": "code",
   "execution_count": null,
   "id": "b40065de-f8cc-488f-8d5f-c974db96771a",
   "metadata": {},
   "outputs": [],
   "source": []
  },
  {
   "cell_type": "code",
   "execution_count": null,
   "id": "e378430b-5bd5-4f09-ab13-806238ce5d52",
   "metadata": {},
   "outputs": [],
   "source": []
  },
  {
   "cell_type": "code",
   "execution_count": null,
   "id": "4ae52086-49bb-489e-a366-4c9c6bdaa3dc",
   "metadata": {},
   "outputs": [],
   "source": []
  },
  {
   "cell_type": "code",
   "execution_count": null,
   "id": "fee26bab-18ee-473d-ae1f-20c9a3ba8b3e",
   "metadata": {},
   "outputs": [],
   "source": []
  },
  {
   "cell_type": "code",
   "execution_count": null,
   "id": "27b223a7-d4f3-4151-a1e0-61bdaa6c0d91",
   "metadata": {},
   "outputs": [],
   "source": []
  },
  {
   "cell_type": "code",
   "execution_count": null,
   "id": "1308b507-e645-4005-9781-048c09e3b115",
   "metadata": {},
   "outputs": [],
   "source": []
  },
  {
   "cell_type": "code",
   "execution_count": null,
   "id": "e59142b1-30ef-414a-9f65-e2e59b1bc166",
   "metadata": {},
   "outputs": [],
   "source": []
  },
  {
   "cell_type": "code",
   "execution_count": null,
   "id": "9885ee25-1e5b-48bb-8111-1abc26f9e529",
   "metadata": {},
   "outputs": [],
   "source": []
  },
  {
   "cell_type": "code",
   "execution_count": null,
   "id": "22207153-910e-429d-89e5-ecbbab8db8d7",
   "metadata": {},
   "outputs": [],
   "source": []
  },
  {
   "cell_type": "code",
   "execution_count": null,
   "id": "a4e97a1b-b88c-4ed8-bfc4-935ac39ea018",
   "metadata": {},
   "outputs": [],
   "source": []
  },
  {
   "cell_type": "code",
   "execution_count": null,
   "id": "0975978b-6a89-45e9-a601-6a8f2233b955",
   "metadata": {},
   "outputs": [],
   "source": []
  },
  {
   "cell_type": "code",
   "execution_count": null,
   "id": "37def7ae-cd8d-45a9-869d-f6738422d7d6",
   "metadata": {},
   "outputs": [],
   "source": []
  },
  {
   "cell_type": "code",
   "execution_count": null,
   "id": "78d86d39-f6a7-4562-8efd-87c2e69bdadf",
   "metadata": {},
   "outputs": [],
   "source": []
  },
  {
   "cell_type": "code",
   "execution_count": null,
   "id": "5bafe6ab-72e2-48bd-a6ee-8c6be8e5a74f",
   "metadata": {},
   "outputs": [],
   "source": []
  },
  {
   "cell_type": "code",
   "execution_count": null,
   "id": "ad53686c-5e9e-425c-90ac-2a70da33882b",
   "metadata": {},
   "outputs": [],
   "source": []
  },
  {
   "cell_type": "code",
   "execution_count": null,
   "id": "3eaf562d-c16e-497a-829c-ac8b28005dc9",
   "metadata": {},
   "outputs": [],
   "source": []
  },
  {
   "cell_type": "code",
   "execution_count": null,
   "id": "279c30e9-4309-4a22-a9a4-33a659c83fa0",
   "metadata": {},
   "outputs": [],
   "source": []
  },
  {
   "cell_type": "code",
   "execution_count": null,
   "id": "b129e949-1296-4a17-a9c6-f6e489f3e2da",
   "metadata": {},
   "outputs": [],
   "source": []
  },
  {
   "cell_type": "code",
   "execution_count": null,
   "id": "843f60ea-18ec-4d2b-af43-dce6f77aa2de",
   "metadata": {},
   "outputs": [],
   "source": []
  },
  {
   "cell_type": "code",
   "execution_count": null,
   "id": "673168c0-5c0a-4dba-914a-da61572c965d",
   "metadata": {},
   "outputs": [],
   "source": []
  },
  {
   "cell_type": "code",
   "execution_count": null,
   "id": "741ad33f-7a5f-4828-a09d-f24c99c02113",
   "metadata": {},
   "outputs": [],
   "source": []
  },
  {
   "cell_type": "code",
   "execution_count": null,
   "id": "18bc7b67-ab83-44da-bd8a-be03b0f11730",
   "metadata": {},
   "outputs": [],
   "source": []
  },
  {
   "cell_type": "code",
   "execution_count": null,
   "id": "34a3e881-d7b0-4563-8600-af76d6be4773",
   "metadata": {},
   "outputs": [],
   "source": []
  },
  {
   "cell_type": "code",
   "execution_count": null,
   "id": "c2779eae-68d0-43f7-91be-49882ac04963",
   "metadata": {},
   "outputs": [],
   "source": []
  },
  {
   "cell_type": "code",
   "execution_count": null,
   "id": "326db6df-16ea-4065-b0ff-c0fef4611269",
   "metadata": {},
   "outputs": [],
   "source": []
  },
  {
   "cell_type": "code",
   "execution_count": null,
   "id": "5591eb84-49e3-4e39-88cc-51dac3da6a50",
   "metadata": {},
   "outputs": [],
   "source": []
  },
  {
   "cell_type": "code",
   "execution_count": null,
   "id": "56fe06f6-2ae2-4f27-baea-387840b11bd7",
   "metadata": {},
   "outputs": [],
   "source": []
  },
  {
   "cell_type": "code",
   "execution_count": null,
   "id": "4bb9c200-e74b-4bcc-a44d-ab338d3cc0a1",
   "metadata": {},
   "outputs": [],
   "source": []
  },
  {
   "cell_type": "code",
   "execution_count": null,
   "id": "9f5a0224-dcc3-449d-9e33-a653be20c70e",
   "metadata": {},
   "outputs": [],
   "source": []
  },
  {
   "cell_type": "code",
   "execution_count": null,
   "id": "85ae4b19-20af-485a-952e-e5fcfe33faf2",
   "metadata": {},
   "outputs": [],
   "source": []
  },
  {
   "cell_type": "code",
   "execution_count": null,
   "id": "1813d2b9-8b6e-4195-8a93-39e337cdded0",
   "metadata": {},
   "outputs": [],
   "source": []
  },
  {
   "cell_type": "code",
   "execution_count": null,
   "id": "a1b82d76-3f19-4b94-8b45-4d36d658f2b5",
   "metadata": {},
   "outputs": [],
   "source": []
  },
  {
   "cell_type": "code",
   "execution_count": null,
   "id": "9248dfea-8cb6-47bc-a203-6a4b7e7ac26e",
   "metadata": {},
   "outputs": [],
   "source": []
  },
  {
   "cell_type": "code",
   "execution_count": null,
   "id": "72e4a8d2-e671-4ac0-8303-065e357add47",
   "metadata": {},
   "outputs": [],
   "source": []
  },
  {
   "cell_type": "code",
   "execution_count": null,
   "id": "1b350557-7ccc-437a-a2fb-5eb48cfdaef9",
   "metadata": {},
   "outputs": [],
   "source": []
  },
  {
   "cell_type": "code",
   "execution_count": null,
   "id": "9d7e0718-9be0-405a-afb2-d63dcd8e08f6",
   "metadata": {},
   "outputs": [],
   "source": []
  },
  {
   "cell_type": "code",
   "execution_count": null,
   "id": "b269d446-e7a7-4244-b3a0-0e00b17d341a",
   "metadata": {},
   "outputs": [],
   "source": []
  },
  {
   "cell_type": "code",
   "execution_count": null,
   "id": "95a73025-65bc-45ad-a74d-6622095db02d",
   "metadata": {},
   "outputs": [],
   "source": []
  },
  {
   "cell_type": "code",
   "execution_count": null,
   "id": "b3b43b04-bac3-45a3-ba85-a1815a711db2",
   "metadata": {},
   "outputs": [],
   "source": []
  },
  {
   "cell_type": "code",
   "execution_count": null,
   "id": "93dba109-caba-4133-9441-abaff5856605",
   "metadata": {},
   "outputs": [],
   "source": []
  },
  {
   "cell_type": "code",
   "execution_count": null,
   "id": "62c4e269-7a65-42ca-b4c5-5559239fb459",
   "metadata": {},
   "outputs": [],
   "source": []
  },
  {
   "cell_type": "code",
   "execution_count": null,
   "id": "235b250a-0a61-4a81-9ade-da96ac6141a3",
   "metadata": {},
   "outputs": [],
   "source": []
  },
  {
   "cell_type": "code",
   "execution_count": null,
   "id": "c437e8c8-5f1a-45d6-8f39-3ac59cf012a4",
   "metadata": {},
   "outputs": [],
   "source": []
  },
  {
   "cell_type": "code",
   "execution_count": null,
   "id": "0068df10-bff4-44f6-9a5a-07dc6b09facc",
   "metadata": {},
   "outputs": [],
   "source": []
  },
  {
   "cell_type": "code",
   "execution_count": null,
   "id": "03b9a8ec-f4dc-4f2a-83bb-60f5c8a3a803",
   "metadata": {},
   "outputs": [],
   "source": []
  },
  {
   "cell_type": "code",
   "execution_count": null,
   "id": "4107dfb1-fb35-44df-a025-12e52a73e278",
   "metadata": {},
   "outputs": [],
   "source": []
  },
  {
   "cell_type": "code",
   "execution_count": null,
   "id": "75f3ccd5-5444-4c5e-860a-1b7e8e171a7c",
   "metadata": {},
   "outputs": [],
   "source": []
  },
  {
   "cell_type": "code",
   "execution_count": null,
   "id": "b16a4fb3-5af8-45bb-b5b6-11dc212742e5",
   "metadata": {},
   "outputs": [],
   "source": []
  },
  {
   "cell_type": "code",
   "execution_count": null,
   "id": "19b45fb5-57d9-4e11-b8d7-b6e3a305be31",
   "metadata": {},
   "outputs": [],
   "source": []
  },
  {
   "cell_type": "code",
   "execution_count": null,
   "id": "f5685c1f-caf4-45f6-9ede-f6f95c6ad320",
   "metadata": {},
   "outputs": [],
   "source": []
  },
  {
   "cell_type": "code",
   "execution_count": null,
   "id": "ab51aeb0-67fa-4756-a4f2-5a18fe878753",
   "metadata": {},
   "outputs": [],
   "source": []
  },
  {
   "cell_type": "code",
   "execution_count": null,
   "id": "91d51cbb-dcdb-4410-8ae5-64c93eaeeded",
   "metadata": {},
   "outputs": [],
   "source": []
  },
  {
   "cell_type": "code",
   "execution_count": null,
   "id": "80b18205-e94d-44c1-8291-5c68b0c8daa5",
   "metadata": {},
   "outputs": [],
   "source": []
  },
  {
   "cell_type": "code",
   "execution_count": null,
   "id": "9796eed1-bed9-4e59-bcb9-edf058b9af52",
   "metadata": {},
   "outputs": [],
   "source": []
  },
  {
   "cell_type": "code",
   "execution_count": null,
   "id": "34d09c7b-bbd4-486c-aec5-a8c73f990e2f",
   "metadata": {},
   "outputs": [],
   "source": []
  }
 ],
 "metadata": {
  "kernelspec": {
   "display_name": "Python 3 (ipykernel)",
   "language": "python",
   "name": "python3"
  },
  "language_info": {
   "codemirror_mode": {
    "name": "ipython",
    "version": 3
   },
   "file_extension": ".py",
   "mimetype": "text/x-python",
   "name": "python",
   "nbconvert_exporter": "python",
   "pygments_lexer": "ipython3",
   "version": "3.11.6"
  }
 },
 "nbformat": 4,
 "nbformat_minor": 5
}
